{
 "cells": [
  {
   "cell_type": "code",
   "execution_count": 1,
   "metadata": {},
   "outputs": [],
   "source": [
    "%load_ext autoreload\n",
    "%autoreload 2"
   ]
  },
  {
   "cell_type": "code",
   "execution_count": 2,
   "metadata": {},
   "outputs": [],
   "source": [
    "import pytest\n",
    "import numpy as np\n",
    "import pandas as pd\n",
    "from numpy.testing import assert_array_equal\n",
    "\n",
    "from sklearn.utils.estimator_checks import check_estimator\n",
    "from sklearn.model_selection import train_test_split\n",
    "from sklearn.utils import shuffle\n",
    "from sklearn.datasets import make_classification\n",
    "from sklearn.neighbors import KNeighborsClassifier\n",
    "\n",
    "from sklearn_questions import KNearestNeighbors\n",
    "from sklearn_questions import MonthlySplit\n"
   ]
  },
  {
   "cell_type": "code",
   "execution_count": 3,
   "metadata": {},
   "outputs": [],
   "source": [
    "k = 3\n",
    "\n",
    "X, y = make_classification(n_samples=200, n_features=20,\n",
    "                               random_state=42)\n",
    "X_train, X_test, y_train, y_test = \\\n",
    "    train_test_split(X, y, random_state=42)\n",
    "knn = KNeighborsClassifier(n_neighbors=k)\n",
    "y_pred_sk = knn.fit(X_train, y_train).predict(X_test)\n",
    "\n",
    "onn = KNearestNeighbors(k)\n",
    "onn.fit(X_train, y_train)\n",
    "y_pred_me = onn.predict(X_test)\n",
    "\n",
    "assert_array_equal(y_pred_me, y_pred_sk)\n",
    "\n",
    "assert onn.score(X_test, y_test) == knn.score(X_test, y_test)"
   ]
  },
  {
   "cell_type": "code",
   "execution_count": 4,
   "metadata": {},
   "outputs": [],
   "source": [
    "end_date = '2021-01-31'\n",
    "shuffle_data = False\n",
    "expected_splits = 12"
   ]
  },
  {
   "cell_type": "code",
   "execution_count": 5,
   "metadata": {},
   "outputs": [],
   "source": [
    "date = pd.date_range(start='2020-01-01', end=end_date, freq='D')\n",
    "n_samples = len(date)\n",
    "X = pd.DataFrame(range(n_samples), index=date, columns=['val'])\n",
    "y = pd.DataFrame(\n",
    "    np.array([i % 2 for i in range(n_samples)]),\n",
    "    index=date\n",
    ")\n",
    "\n",
    "if shuffle_data:\n",
    "    X, y = shuffle(X, y, random_state=0)\n",
    "\n",
    "X_1d = X['val']\n",
    "\n",
    "cv = MonthlySplit()\n",
    "cv_repr = \"MonthlySplit(time_col='index')\"\n",
    "\n",
    "# Test if the repr works without any errors\n",
    "assert cv_repr == repr(cv)"
   ]
  },
  {
   "cell_type": "code",
   "execution_count": 6,
   "metadata": {},
   "outputs": [],
   "source": [
    "# Test if get_n_splits works correctly\n",
    "assert cv.get_n_splits(X, y) == expected_splits"
   ]
  },
  {
   "cell_type": "code",
   "execution_count": 7,
   "metadata": {},
   "outputs": [
    {
     "name": "stdout",
     "output_type": "stream",
     "text": [
      "train 1-2020, test 2-2020\n",
      "train 2-2020, test 3-2020\n",
      "train 3-2020, test 4-2020\n",
      "train 4-2020, test 5-2020\n",
      "train 5-2020, test 6-2020\n",
      "train 6-2020, test 7-2020\n",
      "train 7-2020, test 8-2020\n",
      "train 8-2020, test 9-2020\n",
      "train 9-2020, test 10-2020\n",
      "train 10-2020, test 11-2020\n",
      "train 11-2020, test 12-2020\n",
      "train 12-2020, test 1-2021\n"
     ]
    }
   ],
   "source": [
    "for train_split, test_split in cv.split(X, y):\n",
    "    a = X.iloc[train_split]"
   ]
  },
  {
   "cell_type": "code",
   "execution_count": 8,
   "metadata": {},
   "outputs": [
    {
     "data": {
      "text/plain": [
       "array([335, 336, 337, 338, 339, 340, 341, 342, 343, 344, 345, 346, 347,\n",
       "       348, 349, 350, 351, 352, 353, 354, 355, 356, 357, 358, 359, 360,\n",
       "       361, 362, 363, 364, 365])"
      ]
     },
     "execution_count": 8,
     "metadata": {},
     "output_type": "execute_result"
    }
   ],
   "source": [
    "train_split"
   ]
  },
  {
   "cell_type": "code",
   "execution_count": 10,
   "metadata": {},
   "outputs": [
    {
     "name": "stdout",
     "output_type": "stream",
     "text": [
      "train 1-2020, test 2-2020\n",
      "train 2-2020, test 3-2020\n",
      "train 3-2020, test 4-2020\n",
      "train 4-2020, test 5-2020\n",
      "train 5-2020, test 6-2020\n",
      "train 6-2020, test 7-2020\n",
      "train 7-2020, test 8-2020\n",
      "train 8-2020, test 9-2020\n",
      "train 9-2020, test 10-2020\n",
      "train 10-2020, test 11-2020\n",
      "train 11-2020, test 12-2020\n",
      "train 12-2020, test 1-2021\n"
     ]
    },
    {
     "data": {
      "text/plain": [
       "[(array([ 0,  1,  2,  3,  4,  5,  6,  7,  8,  9, 10, 11, 12, 13, 14, 15, 16,\n",
       "         17, 18, 19, 20, 21, 22, 23, 24, 25, 26, 27, 28, 29, 30]),\n",
       "  array([31, 32, 33, 34, 35, 36, 37, 38, 39, 40, 41, 42, 43, 44, 45, 46, 47,\n",
       "         48, 49, 50, 51, 52, 53, 54, 55, 56, 57, 58, 59])),\n",
       " (array([31, 32, 33, 34, 35, 36, 37, 38, 39, 40, 41, 42, 43, 44, 45, 46, 47,\n",
       "         48, 49, 50, 51, 52, 53, 54, 55, 56, 57, 58, 59]),\n",
       "  array([60, 61, 62, 63, 64, 65, 66, 67, 68, 69, 70, 71, 72, 73, 74, 75, 76,\n",
       "         77, 78, 79, 80, 81, 82, 83, 84, 85, 86, 87, 88, 89, 90])),\n",
       " (array([60, 61, 62, 63, 64, 65, 66, 67, 68, 69, 70, 71, 72, 73, 74, 75, 76,\n",
       "         77, 78, 79, 80, 81, 82, 83, 84, 85, 86, 87, 88, 89, 90]),\n",
       "  array([ 91,  92,  93,  94,  95,  96,  97,  98,  99, 100, 101, 102, 103,\n",
       "         104, 105, 106, 107, 108, 109, 110, 111, 112, 113, 114, 115, 116,\n",
       "         117, 118, 119, 120])),\n",
       " (array([ 91,  92,  93,  94,  95,  96,  97,  98,  99, 100, 101, 102, 103,\n",
       "         104, 105, 106, 107, 108, 109, 110, 111, 112, 113, 114, 115, 116,\n",
       "         117, 118, 119, 120]),\n",
       "  array([121, 122, 123, 124, 125, 126, 127, 128, 129, 130, 131, 132, 133,\n",
       "         134, 135, 136, 137, 138, 139, 140, 141, 142, 143, 144, 145, 146,\n",
       "         147, 148, 149, 150, 151])),\n",
       " (array([121, 122, 123, 124, 125, 126, 127, 128, 129, 130, 131, 132, 133,\n",
       "         134, 135, 136, 137, 138, 139, 140, 141, 142, 143, 144, 145, 146,\n",
       "         147, 148, 149, 150, 151]),\n",
       "  array([152, 153, 154, 155, 156, 157, 158, 159, 160, 161, 162, 163, 164,\n",
       "         165, 166, 167, 168, 169, 170, 171, 172, 173, 174, 175, 176, 177,\n",
       "         178, 179, 180, 181])),\n",
       " (array([152, 153, 154, 155, 156, 157, 158, 159, 160, 161, 162, 163, 164,\n",
       "         165, 166, 167, 168, 169, 170, 171, 172, 173, 174, 175, 176, 177,\n",
       "         178, 179, 180, 181]),\n",
       "  array([182, 183, 184, 185, 186, 187, 188, 189, 190, 191, 192, 193, 194,\n",
       "         195, 196, 197, 198, 199, 200, 201, 202, 203, 204, 205, 206, 207,\n",
       "         208, 209, 210, 211, 212])),\n",
       " (array([182, 183, 184, 185, 186, 187, 188, 189, 190, 191, 192, 193, 194,\n",
       "         195, 196, 197, 198, 199, 200, 201, 202, 203, 204, 205, 206, 207,\n",
       "         208, 209, 210, 211, 212]),\n",
       "  array([213, 214, 215, 216, 217, 218, 219, 220, 221, 222, 223, 224, 225,\n",
       "         226, 227, 228, 229, 230, 231, 232, 233, 234, 235, 236, 237, 238,\n",
       "         239, 240, 241, 242, 243])),\n",
       " (array([213, 214, 215, 216, 217, 218, 219, 220, 221, 222, 223, 224, 225,\n",
       "         226, 227, 228, 229, 230, 231, 232, 233, 234, 235, 236, 237, 238,\n",
       "         239, 240, 241, 242, 243]),\n",
       "  array([244, 245, 246, 247, 248, 249, 250, 251, 252, 253, 254, 255, 256,\n",
       "         257, 258, 259, 260, 261, 262, 263, 264, 265, 266, 267, 268, 269,\n",
       "         270, 271, 272, 273])),\n",
       " (array([244, 245, 246, 247, 248, 249, 250, 251, 252, 253, 254, 255, 256,\n",
       "         257, 258, 259, 260, 261, 262, 263, 264, 265, 266, 267, 268, 269,\n",
       "         270, 271, 272, 273]),\n",
       "  array([274, 275, 276, 277, 278, 279, 280, 281, 282, 283, 284, 285, 286,\n",
       "         287, 288, 289, 290, 291, 292, 293, 294, 295, 296, 297, 298, 299,\n",
       "         300, 301, 302, 303, 304])),\n",
       " (array([274, 275, 276, 277, 278, 279, 280, 281, 282, 283, 284, 285, 286,\n",
       "         287, 288, 289, 290, 291, 292, 293, 294, 295, 296, 297, 298, 299,\n",
       "         300, 301, 302, 303, 304]),\n",
       "  array([305, 306, 307, 308, 309, 310, 311, 312, 313, 314, 315, 316, 317,\n",
       "         318, 319, 320, 321, 322, 323, 324, 325, 326, 327, 328, 329, 330,\n",
       "         331, 332, 333, 334])),\n",
       " (array([305, 306, 307, 308, 309, 310, 311, 312, 313, 314, 315, 316, 317,\n",
       "         318, 319, 320, 321, 322, 323, 324, 325, 326, 327, 328, 329, 330,\n",
       "         331, 332, 333, 334]),\n",
       "  array([335, 336, 337, 338, 339, 340, 341, 342, 343, 344, 345, 346, 347,\n",
       "         348, 349, 350, 351, 352, 353, 354, 355, 356, 357, 358, 359, 360,\n",
       "         361, 362, 363, 364, 365])),\n",
       " (array([335, 336, 337, 338, 339, 340, 341, 342, 343, 344, 345, 346, 347,\n",
       "         348, 349, 350, 351, 352, 353, 354, 355, 356, 357, 358, 359, 360,\n",
       "         361, 362, 363, 364, 365]),\n",
       "  array([366, 367, 368, 369, 370, 371, 372, 373, 374, 375, 376, 377, 378,\n",
       "         379, 380, 381, 382, 383, 384, 385, 386, 387, 388, 389, 390, 391,\n",
       "         392, 393, 394, 395, 396]))]"
      ]
     },
     "execution_count": 10,
     "metadata": {},
     "output_type": "execute_result"
    }
   ],
   "source": [
    "list(cv.split(X, y))"
   ]
  },
  {
   "cell_type": "code",
   "execution_count": 11,
   "metadata": {},
   "outputs": [
    {
     "name": "stdout",
     "output_type": "stream",
     "text": [
      "train 1-2020, test 2-2020\n",
      "train 2-2020, test 3-2020\n",
      "train 3-2020, test 4-2020\n",
      "train 4-2020, test 5-2020\n",
      "train 5-2020, test 6-2020\n",
      "train 6-2020, test 7-2020\n",
      "train 7-2020, test 8-2020\n",
      "train 8-2020, test 9-2020\n",
      "train 9-2020, test 10-2020\n",
      "train 10-2020, test 11-2020\n",
      "train 11-2020, test 12-2020\n",
      "train 12-2020, test 1-2021\n"
     ]
    },
    {
     "data": {
      "text/plain": [
       "Index([11, 11, 11, 11, 11, 11, 11, 11, 11, 11, 11, 11, 11, 11, 11, 11, 11, 11,\n",
       "       11, 11, 11, 11, 11, 11, 11, 11, 11, 11, 11, 11],\n",
       "      dtype='int32')"
      ]
     },
     "execution_count": 11,
     "metadata": {},
     "output_type": "execute_result"
    }
   ],
   "source": [
    "X.iloc[list(cv.split(X, y))[10][0]].index.month"
   ]
  },
  {
   "cell_type": "code",
   "execution_count": 12,
   "metadata": {},
   "outputs": [
    {
     "name": "stdout",
     "output_type": "stream",
     "text": [
      "train 1-2020, test 2-2020\n",
      "train 2-2020, test 3-2020\n",
      "train 3-2020, test 4-2020\n",
      "train 4-2020, test 5-2020\n",
      "train 5-2020, test 6-2020\n",
      "train 6-2020, test 7-2020\n",
      "train 7-2020, test 8-2020\n",
      "train 8-2020, test 9-2020\n",
      "train 9-2020, test 10-2020\n",
      "train 10-2020, test 11-2020\n",
      "train 11-2020, test 12-2020\n",
      "train 12-2020, test 1-2021\n",
      "train 1-2020, test 2-2020\n",
      "train 2-2020, test 3-2020\n",
      "train 3-2020, test 4-2020\n",
      "train 4-2020, test 5-2020\n",
      "train 5-2020, test 6-2020\n",
      "train 6-2020, test 7-2020\n",
      "train 7-2020, test 8-2020\n",
      "train 8-2020, test 9-2020\n",
      "train 9-2020, test 10-2020\n",
      "train 10-2020, test 11-2020\n",
      "train 11-2020, test 12-2020\n",
      "train 12-2020, test 1-2021\n"
     ]
    }
   ],
   "source": [
    "# Test if the cross-validator works as expected even if\n",
    "# the data is 1d\n",
    "np.testing.assert_equal(\n",
    "    list(cv.split(X, y)), list(cv.split(X_1d, y))\n",
    ")"
   ]
  },
  {
   "cell_type": "code",
   "execution_count": 13,
   "metadata": {},
   "outputs": [
    {
     "name": "stdout",
     "output_type": "stream",
     "text": [
      "train 1-2020, test 2-2020\n",
      "train 2-2020, test 3-2020\n",
      "train 3-2020, test 4-2020\n",
      "train 4-2020, test 5-2020\n",
      "train 5-2020, test 6-2020\n",
      "train 6-2020, test 7-2020\n",
      "train 7-2020, test 8-2020\n",
      "train 8-2020, test 9-2020\n",
      "train 9-2020, test 10-2020\n",
      "train 10-2020, test 11-2020\n",
      "train 11-2020, test 12-2020\n",
      "train 12-2020, test 1-2021\n"
     ]
    }
   ],
   "source": [
    "# Test that train, test indices returned are integers and\n",
    "# data is correctly ordered\n",
    "for train, test in cv.split(X, y):\n",
    "    assert np.asarray(train).dtype.kind == \"i\"\n",
    "    assert np.asarray(test).dtype.kind == \"i\"\n",
    "\n",
    "    X_train, X_test = X.iloc[train], X.iloc[test]\n",
    "    y_train, y_test = y.iloc[train], y.iloc[test]\n",
    "    assert X_train.index.max() < X_test.index.min()\n",
    "    assert y_train.index.max() < y_test.index.min()\n",
    "    assert X.index.equals(y.index)\n",
    "\n",
    "with pytest.raises(ValueError, match='datetime'):\n",
    "    cv = MonthlySplit(time_col='val')\n",
    "    next(cv.split(X, y))"
   ]
  },
  {
   "cell_type": "code",
   "execution_count": 18,
   "metadata": {},
   "outputs": [],
   "source": [
    "end_date = '2021-01-31'#, '2020-12-31']\n",
    "shuffle_data = False"
   ]
  },
  {
   "cell_type": "code",
   "execution_count": 19,
   "metadata": {},
   "outputs": [],
   "source": [
    "date = pd.date_range(\n",
    "    start='2020-01-01 00:00', end=end_date, freq='D'\n",
    ")\n",
    "n_samples = len(date)\n",
    "X = pd.DataFrame({'val': range(n_samples), 'date': date})\n",
    "y = pd.DataFrame(\n",
    "    np.array([i % 2 for i in range(n_samples)])\n",
    ")\n",
    "\n",
    "if shuffle_data:\n",
    "    X, y = shuffle(X, y, random_state=0)\n",
    "\n",
    "cv = MonthlySplit(time_col='date')\n",
    "\n",
    "# Test that train, test indices returned are integers and\n",
    "# data is correctly ordered\n",
    "n_splits = 0\n",
    "last_time = None"
   ]
  },
  {
   "cell_type": "code",
   "execution_count": 20,
   "metadata": {},
   "outputs": [
    {
     "name": "stdout",
     "output_type": "stream",
     "text": [
      "train 1-2020, test 2-2020\n",
      "train 2-2020, test 3-2020\n",
      "train 3-2020, test 4-2020\n",
      "train 4-2020, test 5-2020\n",
      "train 5-2020, test 6-2020\n",
      "train 6-2020, test 7-2020\n",
      "train 7-2020, test 8-2020\n",
      "train 8-2020, test 9-2020\n",
      "train 9-2020, test 10-2020\n",
      "train 10-2020, test 11-2020\n",
      "train 11-2020, test 12-2020\n",
      "train 12-2020, test 1-2021\n"
     ]
    },
    {
     "data": {
      "text/plain": [
       "[(array([ 0,  1,  2,  3,  4,  5,  6,  7,  8,  9, 10, 11, 12, 13, 14, 15, 16,\n",
       "         17, 18, 19, 20, 21, 22, 23, 24, 25, 26, 27, 28, 29, 30]),\n",
       "  array([31, 32, 33, 34, 35, 36, 37, 38, 39, 40, 41, 42, 43, 44, 45, 46, 47,\n",
       "         48, 49, 50, 51, 52, 53, 54, 55, 56, 57, 58, 59])),\n",
       " (array([31, 32, 33, 34, 35, 36, 37, 38, 39, 40, 41, 42, 43, 44, 45, 46, 47,\n",
       "         48, 49, 50, 51, 52, 53, 54, 55, 56, 57, 58, 59]),\n",
       "  array([60, 61, 62, 63, 64, 65, 66, 67, 68, 69, 70, 71, 72, 73, 74, 75, 76,\n",
       "         77, 78, 79, 80, 81, 82, 83, 84, 85, 86, 87, 88, 89, 90])),\n",
       " (array([60, 61, 62, 63, 64, 65, 66, 67, 68, 69, 70, 71, 72, 73, 74, 75, 76,\n",
       "         77, 78, 79, 80, 81, 82, 83, 84, 85, 86, 87, 88, 89, 90]),\n",
       "  array([ 91,  92,  93,  94,  95,  96,  97,  98,  99, 100, 101, 102, 103,\n",
       "         104, 105, 106, 107, 108, 109, 110, 111, 112, 113, 114, 115, 116,\n",
       "         117, 118, 119, 120])),\n",
       " (array([ 91,  92,  93,  94,  95,  96,  97,  98,  99, 100, 101, 102, 103,\n",
       "         104, 105, 106, 107, 108, 109, 110, 111, 112, 113, 114, 115, 116,\n",
       "         117, 118, 119, 120]),\n",
       "  array([121, 122, 123, 124, 125, 126, 127, 128, 129, 130, 131, 132, 133,\n",
       "         134, 135, 136, 137, 138, 139, 140, 141, 142, 143, 144, 145, 146,\n",
       "         147, 148, 149, 150, 151])),\n",
       " (array([121, 122, 123, 124, 125, 126, 127, 128, 129, 130, 131, 132, 133,\n",
       "         134, 135, 136, 137, 138, 139, 140, 141, 142, 143, 144, 145, 146,\n",
       "         147, 148, 149, 150, 151]),\n",
       "  array([152, 153, 154, 155, 156, 157, 158, 159, 160, 161, 162, 163, 164,\n",
       "         165, 166, 167, 168, 169, 170, 171, 172, 173, 174, 175, 176, 177,\n",
       "         178, 179, 180, 181])),\n",
       " (array([152, 153, 154, 155, 156, 157, 158, 159, 160, 161, 162, 163, 164,\n",
       "         165, 166, 167, 168, 169, 170, 171, 172, 173, 174, 175, 176, 177,\n",
       "         178, 179, 180, 181]),\n",
       "  array([182, 183, 184, 185, 186, 187, 188, 189, 190, 191, 192, 193, 194,\n",
       "         195, 196, 197, 198, 199, 200, 201, 202, 203, 204, 205, 206, 207,\n",
       "         208, 209, 210, 211, 212])),\n",
       " (array([182, 183, 184, 185, 186, 187, 188, 189, 190, 191, 192, 193, 194,\n",
       "         195, 196, 197, 198, 199, 200, 201, 202, 203, 204, 205, 206, 207,\n",
       "         208, 209, 210, 211, 212]),\n",
       "  array([213, 214, 215, 216, 217, 218, 219, 220, 221, 222, 223, 224, 225,\n",
       "         226, 227, 228, 229, 230, 231, 232, 233, 234, 235, 236, 237, 238,\n",
       "         239, 240, 241, 242, 243])),\n",
       " (array([213, 214, 215, 216, 217, 218, 219, 220, 221, 222, 223, 224, 225,\n",
       "         226, 227, 228, 229, 230, 231, 232, 233, 234, 235, 236, 237, 238,\n",
       "         239, 240, 241, 242, 243]),\n",
       "  array([244, 245, 246, 247, 248, 249, 250, 251, 252, 253, 254, 255, 256,\n",
       "         257, 258, 259, 260, 261, 262, 263, 264, 265, 266, 267, 268, 269,\n",
       "         270, 271, 272, 273])),\n",
       " (array([244, 245, 246, 247, 248, 249, 250, 251, 252, 253, 254, 255, 256,\n",
       "         257, 258, 259, 260, 261, 262, 263, 264, 265, 266, 267, 268, 269,\n",
       "         270, 271, 272, 273]),\n",
       "  array([274, 275, 276, 277, 278, 279, 280, 281, 282, 283, 284, 285, 286,\n",
       "         287, 288, 289, 290, 291, 292, 293, 294, 295, 296, 297, 298, 299,\n",
       "         300, 301, 302, 303, 304])),\n",
       " (array([274, 275, 276, 277, 278, 279, 280, 281, 282, 283, 284, 285, 286,\n",
       "         287, 288, 289, 290, 291, 292, 293, 294, 295, 296, 297, 298, 299,\n",
       "         300, 301, 302, 303, 304]),\n",
       "  array([305, 306, 307, 308, 309, 310, 311, 312, 313, 314, 315, 316, 317,\n",
       "         318, 319, 320, 321, 322, 323, 324, 325, 326, 327, 328, 329, 330,\n",
       "         331, 332, 333, 334])),\n",
       " (array([305, 306, 307, 308, 309, 310, 311, 312, 313, 314, 315, 316, 317,\n",
       "         318, 319, 320, 321, 322, 323, 324, 325, 326, 327, 328, 329, 330,\n",
       "         331, 332, 333, 334]),\n",
       "  array([335, 336, 337, 338, 339, 340, 341, 342, 343, 344, 345, 346, 347,\n",
       "         348, 349, 350, 351, 352, 353, 354, 355, 356, 357, 358, 359, 360,\n",
       "         361, 362, 363, 364, 365])),\n",
       " (array([335, 336, 337, 338, 339, 340, 341, 342, 343, 344, 345, 346, 347,\n",
       "         348, 349, 350, 351, 352, 353, 354, 355, 356, 357, 358, 359, 360,\n",
       "         361, 362, 363, 364, 365]),\n",
       "  array([366, 367, 368, 369, 370, 371, 372, 373, 374, 375, 376, 377, 378,\n",
       "         379, 380, 381, 382, 383, 384, 385, 386, 387, 388, 389, 390, 391,\n",
       "         392, 393, 394, 395, 396]))]"
      ]
     },
     "execution_count": 20,
     "metadata": {},
     "output_type": "execute_result"
    }
   ],
   "source": [
    "list(cv.split(X, y))"
   ]
  },
  {
   "cell_type": "code",
   "execution_count": 17,
   "metadata": {},
   "outputs": [
    {
     "name": "stdout",
     "output_type": "stream",
     "text": [
      "train 1-2020, test 2-2020\n"
     ]
    },
    {
     "ename": "AssertionError",
     "evalue": "",
     "output_type": "error",
     "traceback": [
      "\u001b[0;31m---------------------------------------------------------------------------\u001b[0m",
      "\u001b[0;31mAssertionError\u001b[0m                            Traceback (most recent call last)",
      "Cell \u001b[0;32mIn[17], line 4\u001b[0m\n\u001b[1;32m      1\u001b[0m \u001b[38;5;28;01mfor\u001b[39;00m train, test \u001b[38;5;129;01min\u001b[39;00m cv\u001b[38;5;241m.\u001b[39msplit(X, y):\n\u001b[1;32m      3\u001b[0m     X_train, X_test \u001b[38;5;241m=\u001b[39m X\u001b[38;5;241m.\u001b[39miloc[train], X\u001b[38;5;241m.\u001b[39miloc[test]\n\u001b[0;32m----> 4\u001b[0m     \u001b[38;5;28;01massert\u001b[39;00m X_train[\u001b[38;5;124m'\u001b[39m\u001b[38;5;124mdate\u001b[39m\u001b[38;5;124m'\u001b[39m]\u001b[38;5;241m.\u001b[39mmax() \u001b[38;5;241m<\u001b[39m X_test[\u001b[38;5;124m'\u001b[39m\u001b[38;5;124mdate\u001b[39m\u001b[38;5;124m'\u001b[39m]\u001b[38;5;241m.\u001b[39mmin()\n\u001b[1;32m      5\u001b[0m     \u001b[38;5;28;01massert\u001b[39;00m X_train[\u001b[38;5;124m'\u001b[39m\u001b[38;5;124mdate\u001b[39m\u001b[38;5;124m'\u001b[39m]\u001b[38;5;241m.\u001b[39mdt\u001b[38;5;241m.\u001b[39mmonth\u001b[38;5;241m.\u001b[39mnunique() \u001b[38;5;241m==\u001b[39m \u001b[38;5;241m1\u001b[39m\n\u001b[1;32m      6\u001b[0m     \u001b[38;5;28;01massert\u001b[39;00m X_test[\u001b[38;5;124m'\u001b[39m\u001b[38;5;124mdate\u001b[39m\u001b[38;5;124m'\u001b[39m]\u001b[38;5;241m.\u001b[39mdt\u001b[38;5;241m.\u001b[39mmonth\u001b[38;5;241m.\u001b[39mnunique() \u001b[38;5;241m==\u001b[39m \u001b[38;5;241m1\u001b[39m\n",
      "\u001b[0;31mAssertionError\u001b[0m: "
     ]
    }
   ],
   "source": [
    "for train, test in cv.split(X, y):\n",
    "\n",
    "    X_train, X_test = X.iloc[train], X.iloc[test]\n",
    "    assert X_train['date'].max() < X_test['date'].min()\n",
    "    assert X_train['date'].dt.month.nunique() == 1\n",
    "    assert X_test['date'].dt.month.nunique() == 1\n",
    "    assert X_train['date'].dt.year.nunique() == 1\n",
    "    assert X_test['date'].dt.year.nunique() == 1\n",
    "    if last_time is not None:\n",
    "        assert X_test['date'].min() > last_time\n",
    "    last_time = X_test['date'].max()\n",
    "    n_splits += 1\n",
    "\n",
    "assert 'idx' not in X.columns\n",
    "\n",
    "assert n_splits == cv.get_n_splits(X, y)"
   ]
  },
  {
   "cell_type": "code",
   "execution_count": null,
   "metadata": {},
   "outputs": [],
   "source": []
  }
 ],
 "metadata": {
  "kernelspec": {
   "display_name": "venv",
   "language": "python",
   "name": "python3"
  },
  "language_info": {
   "codemirror_mode": {
    "name": "ipython",
    "version": 3
   },
   "file_extension": ".py",
   "mimetype": "text/x-python",
   "name": "python",
   "nbconvert_exporter": "python",
   "pygments_lexer": "ipython3",
   "version": "3.10.13"
  }
 },
 "nbformat": 4,
 "nbformat_minor": 2
}
